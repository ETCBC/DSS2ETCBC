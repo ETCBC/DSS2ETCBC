{
 "cells": [
  {
   "cell_type": "markdown",
   "metadata": {},
   "source": [
    "# The feature language"
   ]
  },
  {
   "cell_type": "markdown",
   "metadata": {},
   "source": [
    "The feature language is one of the most straightforward features. In the BHSA it has the values 'Hebrew' and 'Aramaic'. In the dss package it has the values 'g', 'a' or None for respectively Greek, Aramaic and Hebrew words. These are straightforwardly converted to the BHSA values."
   ]
  },
  {
   "cell_type": "code",
   "execution_count": null,
   "metadata": {},
   "outputs": [],
   "source": [
    "import collections\n",
    "import pandas as pd"
   ]
  },
  {
   "cell_type": "code",
   "execution_count": null,
   "metadata": {},
   "outputs": [],
   "source": [
    "from tf.app import use\n",
    "A = use('dss', hoist=globals())\n",
    "\n",
    "# give the relevant classes for the DSS new names\n",
    "Ldss = L\n",
    "Tdss = T\n",
    "Fdss = F"
   ]
  },
  {
   "cell_type": "code",
   "execution_count": null,
   "metadata": {},
   "outputs": [],
   "source": [
    "all_langs = collections.defaultdict(int)\n",
    "\n",
    "for w in Fdss.otype.s('word'):\n",
    "    all_langs[Fdss.lang.v(w)] += 1\n",
    "    \n",
    "print(all_langs)"
   ]
  },
  {
   "cell_type": "code",
   "execution_count": null,
   "metadata": {},
   "outputs": [],
   "source": [
    "LANG_DICT = {'g': 'Greek', 'a': 'Aramaic', None: 'Hebrew'}\n",
    "\n",
    "tf_nodes = []\n",
    "words = []\n",
    "lang_dss = []\n",
    "lang_etcbc = []\n",
    "\n",
    "for w in Fdss.otype.s('word'):\n",
    "    language= Fdss.lang.v(w)\n",
    "    tf_nodes.append(w)\n",
    "    words.append(Fdss.glyphe.v(w))\n",
    "    lang_dss.append(Fdss.lang.v(w))\n",
    "    \n",
    "    lang_etcbc.append(LANG_DICT[Fdss.lang.v(w)])"
   ]
  },
  {
   "cell_type": "code",
   "execution_count": null,
   "metadata": {},
   "outputs": [],
   "source": [
    "df_lang = pd.DataFrame(list(zip(tf_nodes, words, lang_dss, lang_etcbc)), \n",
    "               columns =['tf_word_id', 'word','lang_dss','lang_etcbc']) \n",
    "\n",
    "df_lang"
   ]
  },
  {
   "cell_type": "code",
   "execution_count": null,
   "metadata": {},
   "outputs": [],
   "source": [
    "df_lang.to_csv(\"language_all_scrolls.csv\", index=False)"
   ]
  }
 ],
 "metadata": {
  "kernelspec": {
   "display_name": "Python 3",
   "language": "python",
   "name": "python3"
  },
  "language_info": {
   "codemirror_mode": {
    "name": "ipython",
    "version": 3
   },
   "file_extension": ".py",
   "mimetype": "text/x-python",
   "name": "python",
   "nbconvert_exporter": "python",
   "pygments_lexer": "ipython3",
   "version": "3.7.3"
  }
 },
 "nbformat": 4,
 "nbformat_minor": 2
}
