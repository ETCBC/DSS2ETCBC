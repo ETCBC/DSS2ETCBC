{
 "cells": [
  {
   "cell_type": "markdown",
   "metadata": {},
   "source": [
    "# Lexemes of the non-biblical Dead Sea Scrolls"
   ]
  },
  {
   "cell_type": "markdown",
   "metadata": {},
   "source": [
    "The lexemes of the non-biblical DSS are converted to their ETCBC values using the mapping_dict, that was made in the script lexemes_pos_biblical_books.ipynb. \n",
    "This means that lexemes of words occurring in the biblical DSS can be used to convert the same words in the non-biblical scrolls."
   ]
  },
  {
   "cell_type": "code",
   "execution_count": null,
   "metadata": {},
   "outputs": [],
   "source": [
    "import dill\n",
    "from pprint import pprint\n",
    "import pandas as pd\n",
    "import collections"
   ]
  },
  {
   "cell_type": "code",
   "execution_count": null,
   "metadata": {},
   "outputs": [],
   "source": [
    "from tf.app import use\n",
    "A = use('dss', hoist=globals())\n",
    "\n",
    "# give the relevant classes for the DSS new names\n",
    "Ldss = L\n",
    "Tdss = T\n",
    "Fdss = F"
   ]
  },
  {
   "cell_type": "code",
   "execution_count": null,
   "metadata": {},
   "outputs": [],
   "source": [
    "with open(\"mapping_dict.pkl\", 'rb') as pkl_file:\n",
    "    mapping_dict = dill.load(pkl_file)\n",
    "    \n",
    "pprint(mapping_dict)"
   ]
  },
  {
   "cell_type": "code",
   "execution_count": null,
   "metadata": {},
   "outputs": [],
   "source": [
    "book_dict_bhsa_dss = {'Genesis':      'Gen',\n",
    "             'Exodus':       'Ex',\n",
    "             'Leviticus':    'Lev',\n",
    "             'Numbers':      'Num',\n",
    "             'Deuteronomy':  'Deut',\n",
    "             'Joshua':       'Josh',\n",
    "             'Judges':       'Judg',\n",
    "             '1_Samuel':     '1Sam',\n",
    "             '2_Samuel':     '2Sam',\n",
    "             '1_Kings':      '1Kgs',\n",
    "             '2_Kings':      '2Kgs',\n",
    "             'Isaiah':       'Is',\n",
    "             'Jeremiah':     'Jer',\n",
    "             'Ezekiel':      'Ezek',\n",
    "             'Hosea':        'Hos',\n",
    "             'Joel':         'Joel',\n",
    "             'Amos':         'Amos',\n",
    "             'Obadiah':      'Obad',\n",
    "             'Jonah':        'Jonah',\n",
    "             'Micah':        'Mic',\n",
    "             'Nahum':        'Nah',\n",
    "             'Habakkuk':     'Hab',\n",
    "             'Zephaniah':    'Zeph',\n",
    "             'Haggai':       'Hag',\n",
    "             'Zechariah':    'Zech',\n",
    "             'Malachi':      'Mal',\n",
    "             'Psalms':       'Ps',\n",
    "             'Job':          'Job',\n",
    "             'Proverbs':     'Prov',\n",
    "             'Ruth':         'Ruth',\n",
    "             'Song_of_songs':'Song',\n",
    "             'Ecclesiastes': 'Eccl',\n",
    "             'Lamentations': 'Lam',\n",
    "             'Daniel':       'Dan',\n",
    "             'Ezra':         'Ezra',\n",
    "             '2_Chronicles': '2Chr'\n",
    "            }"
   ]
  },
  {
   "cell_type": "code",
   "execution_count": null,
   "metadata": {},
   "outputs": [],
   "source": [
    "book_dict_dss_bhsa = {v: k for k, v in book_dict_bhsa_dss.items()}\n",
    "print(book_dict_dss_bhsa)"
   ]
  },
  {
   "cell_type": "code",
   "execution_count": null,
   "metadata": {},
   "outputs": [],
   "source": [
    "from collections import Counter \n",
    "  \n",
    "def most_frequent(lex_list): \n",
    "    occurrence_count = Counter(lex_list) \n",
    "    lex = occurrence_count.most_common(1)[0][0]\n",
    "    count = occurrence_count.most_common(1)[0][1]\n",
    "    return(lex, count)"
   ]
  },
  {
   "cell_type": "code",
   "execution_count": null,
   "metadata": {},
   "outputs": [],
   "source": [
    "tf_nodes = []\n",
    "scrolls = []\n",
    "glyphs_list = []\n",
    "dss_lex = []\n",
    "etcbc_lex = []\n",
    "\n",
    "for scr in Fdss.otype.s('scroll'):\n",
    "    scroll_name = Tdss.scrollName(scr)\n",
    "    \n",
    "    #if scroll_name != '11Q19':\n",
    "    #    continue\n",
    "    \n",
    "    words = Ldss.d(scr, 'word')\n",
    "        \n",
    "    for w in words:\n",
    "        \n",
    "        bo = Fdss.book.v(w) \n",
    "        \n",
    "        if bo in book_dict_dss_bhsa:\n",
    "            continue\n",
    "        \n",
    "        glyphs = Fdss.glyphe.v(w)\n",
    "        lexeme = Fdss.glexe.v(w)\n",
    "        \n",
    "        tf_nodes.append(w)\n",
    "        scrolls.append(scroll_name)\n",
    "        glyphs_list.append(glyphs)\n",
    "        dss_lex.append(lexeme)\n",
    "\n",
    "        if lexeme == None:\n",
    "            etcbc_lex.append('')\n",
    "            continue\n",
    "            \n",
    "        \n",
    "        elif lexeme in mapping_dict:\n",
    "        \n",
    "            all_candidates_lists = list((mapping_dict[lexeme]).values())\n",
    "            candidates_list = [item for sublist in all_candidates_lists for item in sublist]        \n",
    "            best_cand, count = most_frequent(candidates_list)\n",
    "            etcbc_lex.append(best_cand)\n",
    "            #print(w, glyphs, lexeme, best_cand)\n",
    "        else:\n",
    "            etcbc_lex.append('')\n"
   ]
  },
  {
   "cell_type": "code",
   "execution_count": null,
   "metadata": {},
   "outputs": [],
   "source": [
    "df_lex = pd.DataFrame(list(zip(tf_nodes, scrolls, glyphs_list, dss_lex, etcbc_lex)), \n",
    "               columns =['tf_word_id', 'scroll','glyphs','dss_lex', 'etcbc_lex']) \n",
    "\n",
    "df_lex"
   ]
  },
  {
   "cell_type": "code",
   "execution_count": null,
   "metadata": {},
   "outputs": [],
   "source": [
    "df_lex.to_csv(\"lexemes_non_bib_books.csv\", index=False)"
   ]
  },
  {
   "cell_type": "code",
   "execution_count": null,
   "metadata": {},
   "outputs": [],
   "source": [
    "# This approach does not work well for cases like the following, needs to be corrected in the file \n",
    "# in which the mapping_dict is made.\n",
    "\n",
    "mapping_dict['H']"
   ]
  },
  {
   "cell_type": "code",
   "execution_count": null,
   "metadata": {},
   "outputs": [],
   "source": []
  }
 ],
 "metadata": {
  "kernelspec": {
   "display_name": "Python 3",
   "language": "python",
   "name": "python3"
  },
  "language_info": {
   "codemirror_mode": {
    "name": "ipython",
    "version": 3
   },
   "file_extension": ".py",
   "mimetype": "text/x-python",
   "name": "python",
   "nbconvert_exporter": "python",
   "pygments_lexer": "ipython3",
   "version": "3.7.3"
  }
 },
 "nbformat": 4,
 "nbformat_minor": 2
}
